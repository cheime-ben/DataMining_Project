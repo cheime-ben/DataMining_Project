{
 "cells": [
  {
   "cell_type": "code",
   "execution_count": 9,
   "metadata": {
    "collapsed": true
   },
   "outputs": [],
   "source": [
    "from tensorflow import keras\n",
    "from tensorflow.keras import layers\n",
    "from tensorflow.keras.layers.experimental import RandomFourierFeatures\n",
    "\n",
    "from load_ardis_mnist import load_ardis_mnist"
   ]
  },
  {
   "cell_type": "code",
   "execution_count": 10,
   "outputs": [],
   "source": [
    "model = keras.Sequential(\n",
    "    [\n",
    "        keras.Input(shape=(784,)),\n",
    "        RandomFourierFeatures(\n",
    "            output_dim=4096, scale=10.0, kernel_initializer=\"gaussian\"\n",
    "        ),\n",
    "        layers.Dense(units=10),\n",
    "    ]\n",
    ")\n",
    "model.compile(\n",
    "    optimizer=keras.optimizers.Adam(learning_rate=1e-3),\n",
    "    loss=keras.losses.hinge,\n",
    "    metrics=[keras.metrics.CategoricalAccuracy(name=\"acc\")],\n",
    ")\n"
   ],
   "metadata": {
    "collapsed": false
   }
  },
  {
   "cell_type": "code",
   "execution_count": 11,
   "outputs": [],
   "source": [
    "(x_train, y_train), (x_test, y_test) = load_ardis_mnist()\n",
    "\n",
    "# Preprocess the data by flattening & scaling it\n",
    "x_train = x_train.reshape(-1, 784).astype(\"float32\") / 255\n",
    "x_test = x_test.reshape(-1, 784).astype(\"float32\") / 255\n",
    "\n",
    "# Categorical (one hot) encoding of the labels\n",
    "y_train = keras.utils.to_categorical(y_train)\n",
    "y_test = keras.utils.to_categorical(y_test)"
   ],
   "metadata": {
    "collapsed": false
   }
  },
  {
   "cell_type": "code",
   "execution_count": 12,
   "outputs": [
    {
     "name": "stdout",
     "output_type": "stream",
     "text": [
      "Epoch 1/20\n",
      "417/417 [==============================] - 4s 10ms/step - loss: 0.0924 - acc: 0.8436 - val_loss: 0.0473 - val_acc: 0.9303\n",
      "Epoch 2/20\n",
      "417/417 [==============================] - 4s 10ms/step - loss: 0.0494 - acc: 0.9254 - val_loss: 0.0384 - val_acc: 0.9442\n",
      "Epoch 3/20\n",
      "417/417 [==============================] - 4s 10ms/step - loss: 0.0389 - acc: 0.9444 - val_loss: 0.0331 - val_acc: 0.9533\n",
      "Epoch 4/20\n",
      "417/417 [==============================] - 4s 10ms/step - loss: 0.0340 - acc: 0.9519 - val_loss: 0.0298 - val_acc: 0.9571\n",
      "Epoch 5/20\n",
      "417/417 [==============================] - 5s 11ms/step - loss: 0.0305 - acc: 0.9565 - val_loss: 0.0260 - val_acc: 0.9616\n",
      "Epoch 6/20\n",
      "417/417 [==============================] - 4s 10ms/step - loss: 0.0276 - acc: 0.9618 - val_loss: 0.0269 - val_acc: 0.9625\n",
      "Epoch 7/20\n",
      "417/417 [==============================] - 4s 10ms/step - loss: 0.0246 - acc: 0.9666 - val_loss: 0.0286 - val_acc: 0.9589\n",
      "Epoch 8/20\n",
      "417/417 [==============================] - 4s 10ms/step - loss: 0.0233 - acc: 0.9691 - val_loss: 0.0275 - val_acc: 0.9598\n",
      "Epoch 9/20\n",
      "417/417 [==============================] - 4s 10ms/step - loss: 0.0222 - acc: 0.9708 - val_loss: 0.0244 - val_acc: 0.9652\n",
      "Epoch 10/20\n",
      "417/417 [==============================] - 4s 10ms/step - loss: 0.0202 - acc: 0.9740 - val_loss: 0.0282 - val_acc: 0.9610\n",
      "Epoch 11/20\n",
      "417/417 [==============================] - 4s 10ms/step - loss: 0.0193 - acc: 0.9754 - val_loss: 0.0248 - val_acc: 0.9652\n",
      "Epoch 12/20\n",
      "417/417 [==============================] - 4s 10ms/step - loss: 0.0186 - acc: 0.9762 - val_loss: 0.0235 - val_acc: 0.9666\n",
      "Epoch 13/20\n",
      "417/417 [==============================] - 4s 10ms/step - loss: 0.0174 - acc: 0.9788 - val_loss: 0.0243 - val_acc: 0.9659\n",
      "Epoch 14/20\n",
      "417/417 [==============================] - 4s 10ms/step - loss: 0.0171 - acc: 0.9785 - val_loss: 0.0223 - val_acc: 0.9673\n",
      "Epoch 15/20\n",
      "417/417 [==============================] - 4s 10ms/step - loss: 0.0167 - acc: 0.9804 - val_loss: 0.0231 - val_acc: 0.9675\n",
      "Epoch 16/20\n",
      "417/417 [==============================] - 4s 10ms/step - loss: 0.0161 - acc: 0.9812 - val_loss: 0.0235 - val_acc: 0.9676\n",
      "Epoch 17/20\n",
      "417/417 [==============================] - 4s 10ms/step - loss: 0.0153 - acc: 0.9815 - val_loss: 0.0222 - val_acc: 0.9686\n",
      "Epoch 18/20\n",
      "417/417 [==============================] - 4s 10ms/step - loss: 0.0146 - acc: 0.9834 - val_loss: 0.0224 - val_acc: 0.9677\n",
      "Epoch 19/20\n",
      "417/417 [==============================] - 4s 10ms/step - loss: 0.0145 - acc: 0.9829 - val_loss: 0.0239 - val_acc: 0.9643\n",
      "Epoch 20/20\n",
      "417/417 [==============================] - 4s 10ms/step - loss: 0.0134 - acc: 0.9851 - val_loss: 0.0242 - val_acc: 0.9681\n"
     ]
    },
    {
     "data": {
      "text/plain": "<keras.callbacks.History at 0x159e06280>"
     },
     "execution_count": 12,
     "metadata": {},
     "output_type": "execute_result"
    }
   ],
   "source": [
    "model.fit(x_train, y_train, epochs=20, batch_size=128, validation_split=0.2)"
   ],
   "metadata": {
    "collapsed": false
   }
  },
  {
   "cell_type": "code",
   "execution_count": 13,
   "outputs": [
    {
     "name": "stdout",
     "output_type": "stream",
     "text": [
      "344/344 [==============================] - 2s 5ms/step - loss: 0.0249 - acc: 0.9661\n",
      "test loss on 10000 tests samples 0.024875883013010025\n",
      "validation accurancy on 10000 tests samples 0.9660909175872803\n"
     ]
    }
   ],
   "source": [
    "test_loss, test_acc = model.evaluate(x_test,  y_test)\n",
    "print(\"test loss on 10000 tests samples\",test_loss)\n",
    "print(\"validation accurancy on 10000 tests samples\",test_acc)"
   ],
   "metadata": {
    "collapsed": false
   }
  },
  {
   "cell_type": "code",
   "execution_count": 14,
   "outputs": [
    {
     "name": "stderr",
     "output_type": "stream",
     "text": [
      "WARNING:absl:Found untraced functions such as _update_step_xla while saving (showing 1 of 1). These functions will not be directly callable after loading.\n"
     ]
    },
    {
     "name": "stdout",
     "output_type": "stream",
     "text": [
      "INFO:tensorflow:Assets written to: digit_recongnition_SVM/assets\n"
     ]
    },
    {
     "name": "stderr",
     "output_type": "stream",
     "text": [
      "INFO:tensorflow:Assets written to: digit_recongnition_SVM/assets\n"
     ]
    }
   ],
   "source": [
    "model.save(\"digit_recongnition_SVM\")"
   ],
   "metadata": {
    "collapsed": false
   }
  },
  {
   "cell_type": "code",
   "execution_count": 15,
   "outputs": [],
   "source": [
    "test_model = keras.models.load_model(\"digit_recongnition_SVM\")"
   ],
   "metadata": {
    "collapsed": false
   }
  },
  {
   "cell_type": "code",
   "execution_count": 16,
   "outputs": [
    {
     "name": "stdout",
     "output_type": "stream",
     "text": [
      "344/344 [==============================] - 2s 4ms/step - loss: 0.0249 - acc: 0.9661\n"
     ]
    },
    {
     "data": {
      "text/plain": "[0.024875883013010025, 0.9660909175872803]"
     },
     "execution_count": 16,
     "metadata": {},
     "output_type": "execute_result"
    }
   ],
   "source": [
    "test_model.evaluate(x_test, y_test)"
   ],
   "metadata": {
    "collapsed": false
   }
  },
  {
   "cell_type": "code",
   "execution_count": 16,
   "outputs": [],
   "source": [],
   "metadata": {
    "collapsed": false
   }
  }
 ],
 "metadata": {
  "kernelspec": {
   "display_name": "Python 3",
   "language": "python",
   "name": "python3"
  },
  "language_info": {
   "codemirror_mode": {
    "name": "ipython",
    "version": 2
   },
   "file_extension": ".py",
   "mimetype": "text/x-python",
   "name": "python",
   "nbconvert_exporter": "python",
   "pygments_lexer": "ipython2",
   "version": "2.7.6"
  }
 },
 "nbformat": 4,
 "nbformat_minor": 0
}
