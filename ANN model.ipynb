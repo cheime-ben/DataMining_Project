{
 "cells": [
  {
   "cell_type": "code",
   "execution_count": 1,
   "metadata": {},
   "outputs": [],
   "source": [
    "# import the dependencies\n",
    "import tensorflow as tf\n",
    "from load_ardis_mnist import load_ardis_mnist\n",
    "from keras.models import Sequential\n",
    "from keras.layers import Dense\n",
    "from keras.utils import to_categorical\n",
    "import keras"
   ]
  },
  {
   "cell_type": "code",
   "execution_count": 2,
   "metadata": {},
   "outputs": [],
   "source": [
    "# load the data\n",
    "(train_images, train_labels), (test_images,\n",
    "                               test_labels) = load_ardis_mnist()"
   ]
  },
  {
   "cell_type": "code",
   "execution_count": 4,
   "metadata": {},
   "outputs": [
    {
     "name": "stdout",
     "output_type": "stream",
     "text": [
      "(66600, 28, 28)\n",
      "(66600,)\n",
      "(11000, 28, 28)\n",
      "(11000,)\n"
     ]
    }
   ],
   "source": [
    "print(train_images.shape)\n",
    "print(train_labels.shape)\n",
    "print(test_images.shape)\n",
    "print(test_labels.shape)"
   ]
  },
  {
   "cell_type": "code",
   "execution_count": 5,
   "metadata": {},
   "outputs": [],
   "source": [
    "# normalize and make the black and white values between -0.5 and 0.5\n",
    "train_images = (train_images/255) - 0.5\n",
    "test_images = (test_images/255) - 0.5"
   ]
  },
  {
   "cell_type": "code",
   "execution_count": 6,
   "metadata": {},
   "outputs": [],
   "source": [
    "# flatten the image into an array\n",
    "train_images = train_images.reshape((-1, 784))\n",
    "test_images = test_images.reshape((-1, 784))"
   ]
  },
  {
   "cell_type": "code",
   "execution_count": 7,
   "metadata": {},
   "outputs": [],
   "source": [
    "# create the model\n",
    "model = Sequential()\n",
    "model.add(Dense(64, activation=\"relu\", input_dim=784))\n",
    "model.add(Dense(64, activation=\"relu\"))\n",
    "model.add(Dense(10, activation=\"softmax\"))\n",
    "model.compile(optimizer=\"adam\", loss=\"categorical_crossentropy\",\n",
    "              metrics=['accuracy']\n",
    "              )"
   ]
  },
  {
   "cell_type": "code",
   "execution_count": 8,
   "metadata": {},
   "outputs": [
    {
     "name": "stdout",
     "output_type": "stream",
     "text": [
      "Epoch 1/5\n",
      "2082/2082 [==============================] - 14s 6ms/step - loss: 0.4224 - accuracy: 0.8713\n",
      "Epoch 2/5\n",
      "2082/2082 [==============================] - 23s 11ms/step - loss: 0.2198 - accuracy: 0.9326\n",
      "Epoch 3/5\n",
      "2082/2082 [==============================] - 11s 6ms/step - loss: 0.1675 - accuracy: 0.9485\n",
      "Epoch 4/5\n",
      "2082/2082 [==============================] - 12s 6ms/step - loss: 0.1379 - accuracy: 0.9579\n",
      "Epoch 5/5\n",
      "2082/2082 [==============================] - 13s 6ms/step - loss: 0.1189 - accuracy: 0.9626\n"
     ]
    },
    {
     "data": {
      "text/plain": [
       "<keras.callbacks.History at 0x18651eef730>"
      ]
     },
     "execution_count": 8,
     "metadata": {},
     "output_type": "execute_result"
    }
   ],
   "source": [
    "# train the model\n",
    "model.fit(train_images, to_categorical(train_labels),\n",
    "          epochs=5, batch_size=32)"
   ]
  },
  {
   "cell_type": "code",
   "execution_count": 9,
   "metadata": {},
   "outputs": [
    {
     "name": "stdout",
     "output_type": "stream",
     "text": [
      "344/344 [==============================] - 3s 6ms/step - loss: 0.1461 - accuracy: 0.9533\n"
     ]
    },
    {
     "data": {
      "text/plain": [
       "[0.1460833102464676, 0.9532727003097534]"
      ]
     },
     "execution_count": 9,
     "metadata": {},
     "output_type": "execute_result"
    }
   ],
   "source": [
    "# test the model accuracy\n",
    "model.evaluate(test_images, to_categorical(test_labels))"
   ]
  },
  {
   "cell_type": "code",
   "execution_count": 11,
   "metadata": {},
   "outputs": [
    {
     "name": "stdout",
     "output_type": "stream",
     "text": [
      "INFO:tensorflow:Assets written to: digit_recongnition_ANN\\assets\n"
     ]
    }
   ],
   "source": [
    "# save the model\n",
    "model.save(\"digit_recongnition_ANN\")"
   ]
  },
  {
   "cell_type": "code",
   "execution_count": 13,
   "metadata": {},
   "outputs": [],
   "source": [
    "# load the model again for tests\n",
    "test_model = keras.models.load_model(\"digit_recongnition_ANN\")"
   ]
  },
  {
   "cell_type": "code",
   "execution_count": 14,
   "metadata": {},
   "outputs": [
    {
     "name": "stdout",
     "output_type": "stream",
     "text": [
      "344/344 [==============================] - 0s 834us/step - loss: 0.1433 - accuracy: 0.9551\n"
     ]
    },
    {
     "data": {
      "text/plain": [
       "[0.14329729974269867, 0.9550908803939819]"
      ]
     },
     "execution_count": 14,
     "metadata": {},
     "output_type": "execute_result"
    }
   ],
   "source": [
    "# test the loaded model\n",
    "test_model.evaluate(test_images, to_categorical(test_labels))"
   ]
  }
 ],
 "metadata": {
  "kernelspec": {
   "display_name": "Python 3 (ipykernel)",
   "language": "python",
   "name": "python3"
  },
  "language_info": {
   "codemirror_mode": {
    "name": "ipython",
    "version": 3
   },
   "file_extension": ".py",
   "mimetype": "text/x-python",
   "name": "python",
   "nbconvert_exporter": "python",
   "pygments_lexer": "ipython3",
   "version": "3.9.13"
  },
  "vscode": {
   "interpreter": {
    "hash": "f462d376c5d72a740b731c33077fbd2fa1f60f26025e2f5afdb0c5f441cc849f"
   }
  }
 },
 "nbformat": 4,
 "nbformat_minor": 2
}
