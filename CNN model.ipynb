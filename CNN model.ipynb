{
 "cells": [
  {
   "cell_type": "markdown",
   "id": "87a8bd4a",
   "metadata": {},
   "source": [
    "# Handwritten Digits Recognition using CNN "
   ]
  },
  {
   "cell_type": "code",
   "execution_count": 2,
   "id": "8c2eaad6",
   "metadata": {},
   "outputs": [],
   "source": [
    "import tensorflow as tf\n",
    "from tensorflow.keras import datasets, layers, models\n",
    "from load_ardis_mnist import load_ardis_mnist\n",
    "import matplotlib.pyplot as plt\n",
    "import numpy as np\n",
    "import cv2\n",
    "\n",
    "import os \n",
    "os.environ['KMP_DUPLICATE_LIB_OK']='True'"
   ]
  },
  {
   "cell_type": "code",
   "execution_count": 3,
   "id": "85365cd6",
   "metadata": {},
   "outputs": [],
   "source": [
    "# load the data\n",
    "(x_train, y_train), (x_test, y_test) = load_ardis_mnist()"
   ]
  },
  {
   "cell_type": "code",
   "execution_count": 4,
   "id": "607cf1a1",
   "metadata": {},
   "outputs": [
    {
     "name": "stdout",
     "output_type": "stream",
     "text": [
      "training samples dimension (66600, 28, 28)\n",
      "training classes dimension (66600,)\n",
      "testing samples dimension (11000, 28, 28)\n",
      "testing classes dimension (11000,)\n"
     ]
    }
   ],
   "source": [
    "print(\"training samples dimension\",x_train.shape)\n",
    "print(\"training classes dimension\",y_train.shape)\n",
    "print(\"testing samples dimension\",x_test.shape)\n",
    "print(\"testing classes dimension\",y_test.shape)"
   ]
  },
  {
   "cell_type": "code",
   "execution_count": 5,
   "id": "5e3bb4a1",
   "metadata": {},
   "outputs": [],
   "source": [
    "# normalize and make the black and white values between -0.5 and 0.5\n",
    "x_train = (x_train/255) - 0.5\n",
    "x_test = (x_test/255) - 0.5"
   ]
  },
  {
   "cell_type": "code",
   "execution_count": 6,
   "id": "1cac8ac2",
   "metadata": {},
   "outputs": [],
   "source": [
    "x_train = np.array(x_train).reshape(-1, 28, 28, 1)\n",
    "x_test = np.array(x_test).reshape(-1, 28, 28, 1)"
   ]
  },
  {
   "cell_type": "code",
   "execution_count": 7,
   "id": "1c2f2038",
   "metadata": {},
   "outputs": [
    {
     "name": "stdout",
     "output_type": "stream",
     "text": [
      "training samples dimension (66600, 28, 28, 1)\n",
      "testing samples dimension (11000, 28, 28, 1)\n"
     ]
    }
   ],
   "source": [
    "print(\"training samples dimension\",x_train.shape)\n",
    "print(\"testing samples dimension\",x_test.shape)"
   ]
  },
  {
   "cell_type": "markdown",
   "source": [],
   "metadata": {
    "collapsed": false
   }
  },
  {
   "cell_type": "code",
   "execution_count": 8,
   "id": "1ddb14d5",
   "metadata": {},
   "outputs": [
    {
     "name": "stderr",
     "output_type": "stream",
     "text": [
      "2022-11-21 23:43:47.854131: I tensorflow/core/platform/cpu_feature_guard.cc:193] This TensorFlow binary is optimized with oneAPI Deep Neural Network Library (oneDNN) to use the following CPU instructions in performance-critical operations:  AVX2 FMA\n",
      "To enable them in other operations, rebuild TensorFlow with the appropriate compiler flags.\n"
     ]
    }
   ],
   "source": [
    "model = models.Sequential()\n",
    "model.add(layers.Conv2D(64, (3, 3), activation='relu', input_shape=x_train.shape[1:]))\n",
    "model.add(layers.MaxPooling2D((2, 2)))\n",
    "\n",
    "model.add(layers.Conv2D(64, (3, 3), activation='relu'))\n",
    "model.add(layers.MaxPooling2D((2, 2)))\n",
    "\n",
    "model.add(layers.Conv2D(64, (3, 3), activation='relu'))\n",
    "model.add(layers.MaxPooling2D((2, 2)))\n",
    "\n",
    "model.add(layers.Flatten())\n",
    "model.add(layers.Dense(64, activation='relu'))\n",
    "\n",
    "model.add(layers.Dense(32, activation='relu'))\n",
    "\n",
    "model.add(layers.Dense(10, activation='softmax'))"
   ]
  },
  {
   "cell_type": "code",
   "execution_count": 9,
   "id": "50443aea",
   "metadata": {},
   "outputs": [
    {
     "name": "stdout",
     "output_type": "stream",
     "text": [
      "Model: \"sequential\"\n",
      "_________________________________________________________________\n",
      " Layer (type)                Output Shape              Param #   \n",
      "=================================================================\n",
      " conv2d (Conv2D)             (None, 26, 26, 64)        640       \n",
      "                                                                 \n",
      " max_pooling2d (MaxPooling2D  (None, 13, 13, 64)       0         \n",
      " )                                                               \n",
      "                                                                 \n",
      " conv2d_1 (Conv2D)           (None, 11, 11, 64)        36928     \n",
      "                                                                 \n",
      " max_pooling2d_1 (MaxPooling  (None, 5, 5, 64)         0         \n",
      " 2D)                                                             \n",
      "                                                                 \n",
      " conv2d_2 (Conv2D)           (None, 3, 3, 64)          36928     \n",
      "                                                                 \n",
      " max_pooling2d_2 (MaxPooling  (None, 1, 1, 64)         0         \n",
      " 2D)                                                             \n",
      "                                                                 \n",
      " flatten (Flatten)           (None, 64)                0         \n",
      "                                                                 \n",
      " dense (Dense)               (None, 64)                4160      \n",
      "                                                                 \n",
      " dense_1 (Dense)             (None, 32)                2080      \n",
      "                                                                 \n",
      " dense_2 (Dense)             (None, 10)                330       \n",
      "                                                                 \n",
      "=================================================================\n",
      "Total params: 81,066\n",
      "Trainable params: 81,066\n",
      "Non-trainable params: 0\n",
      "_________________________________________________________________\n"
     ]
    }
   ],
   "source": [
    "model.summary()"
   ]
  },
  {
   "cell_type": "code",
   "execution_count": 10,
   "id": "cf8906b4",
   "metadata": {},
   "outputs": [],
   "source": [
    "model.compile(optimizer='adam',\n",
    "              loss=tf.keras.losses.SparseCategoricalCrossentropy(from_logits=True),\n",
    "              metrics=['accuracy'])"
   ]
  },
  {
   "cell_type": "code",
   "execution_count": 11,
   "id": "07b05ebf",
   "metadata": {},
   "outputs": [
    {
     "name": "stdout",
     "output_type": "stream",
     "text": [
      "Epoch 1/6\n"
     ]
    },
    {
     "name": "stderr",
     "output_type": "stream",
     "text": [
      "/Users/mac/Desktop/freelance-mobile/DataMining_Project/venv/lib/python3.9/site-packages/keras/backend.py:5585: UserWarning: \"`sparse_categorical_crossentropy` received `from_logits=True`, but the `output` argument was produced by a Softmax activation and thus does not represent logits. Was this intended?\n",
      "  output, from_logits = _get_logits(\n"
     ]
    },
    {
     "name": "stdout",
     "output_type": "stream",
     "text": [
      "1457/1457 [==============================] - 34s 22ms/step - loss: 0.3451 - accuracy: 0.8910 - val_loss: 0.1092 - val_accuracy: 0.9664\n",
      "Epoch 2/6\n",
      "1457/1457 [==============================] - 32s 22ms/step - loss: 0.1072 - accuracy: 0.9669 - val_loss: 0.1071 - val_accuracy: 0.9681\n",
      "Epoch 3/6\n",
      "1457/1457 [==============================] - 34s 24ms/step - loss: 0.0733 - accuracy: 0.9780 - val_loss: 0.0610 - val_accuracy: 0.9819\n",
      "Epoch 4/6\n",
      "1457/1457 [==============================] - 31s 22ms/step - loss: 0.0573 - accuracy: 0.9821 - val_loss: 0.0595 - val_accuracy: 0.9820\n",
      "Epoch 5/6\n",
      "1457/1457 [==============================] - 30s 20ms/step - loss: 0.0467 - accuracy: 0.9847 - val_loss: 0.0681 - val_accuracy: 0.9803\n",
      "Epoch 6/6\n",
      "1457/1457 [==============================] - 66s 45ms/step - loss: 0.0372 - accuracy: 0.9884 - val_loss: 0.0726 - val_accuracy: 0.9801\n"
     ]
    },
    {
     "data": {
      "text/plain": "<keras.callbacks.History at 0x1649f8ca0>"
     },
     "execution_count": 11,
     "metadata": {},
     "output_type": "execute_result"
    }
   ],
   "source": [
    "model.fit(x_train, y_train, epochs=6, validation_split=0.3)"
   ]
  },
  {
   "cell_type": "code",
   "execution_count": 12,
   "id": "bfa7f3fc",
   "metadata": {},
   "outputs": [
    {
     "name": "stdout",
     "output_type": "stream",
     "text": [
      "344/344 [==============================] - 1s 4ms/step - loss: 0.0766 - accuracy: 0.9789\n",
      "test loss on 10000 tests samples 0.07659772038459778\n",
      "validation accurancy on 10000 tests samples 0.9789090752601624\n"
     ]
    }
   ],
   "source": [
    "test_loss, test_acc = model.evaluate(x_test,  y_test)\n",
    "print(\"test loss on 10000 tests samples\",test_loss)\n",
    "print(\"validation accurancy on 10000 tests samples\",test_acc)"
   ]
  },
  {
   "cell_type": "code",
   "execution_count": 13,
   "id": "1c73ffb0",
   "metadata": {},
   "outputs": [
    {
     "name": "stderr",
     "output_type": "stream",
     "text": [
      "WARNING:absl:Found untraced functions such as _jit_compiled_convolution_op, _jit_compiled_convolution_op, _jit_compiled_convolution_op, _update_step_xla while saving (showing 4 of 4). These functions will not be directly callable after loading.\n"
     ]
    },
    {
     "name": "stdout",
     "output_type": "stream",
     "text": [
      "INFO:tensorflow:Assets written to: digit_recongnition_CNN/assets\n"
     ]
    },
    {
     "name": "stderr",
     "output_type": "stream",
     "text": [
      "INFO:tensorflow:Assets written to: digit_recongnition_CNN/assets\n"
     ]
    }
   ],
   "source": [
    "# save the model\n",
    "model.save(\"digit_recongnition_CNN\")"
   ]
  },
  {
   "cell_type": "code",
   "execution_count": 14,
   "id": "9ff9606d",
   "metadata": {},
   "outputs": [
    {
     "ename": "NameError",
     "evalue": "name 'keras' is not defined",
     "output_type": "error",
     "traceback": [
      "\u001B[0;31m---------------------------------------------------------------------------\u001B[0m",
      "\u001B[0;31mNameError\u001B[0m                                 Traceback (most recent call last)",
      "Cell \u001B[0;32mIn [14], line 2\u001B[0m\n\u001B[1;32m      1\u001B[0m \u001B[38;5;66;03m# load the model again for tests\u001B[39;00m\n\u001B[0;32m----> 2\u001B[0m test_model \u001B[38;5;241m=\u001B[39m \u001B[43mkeras\u001B[49m\u001B[38;5;241m.\u001B[39mmodels\u001B[38;5;241m.\u001B[39mload_model(\u001B[38;5;124m\"\u001B[39m\u001B[38;5;124mdigit_recongnition_ANN\u001B[39m\u001B[38;5;124m\"\u001B[39m)\n",
      "\u001B[0;31mNameError\u001B[0m: name 'keras' is not defined"
     ]
    }
   ],
   "source": [
    "# load the model again for tests\n",
    "test_model = keras.models.load_model(\"digit_recongnition_ANN\")"
   ]
  },
  {
   "cell_type": "code",
   "execution_count": null,
   "id": "465256a9",
   "metadata": {},
   "outputs": [],
   "source": [
    "# test the loaded model\n",
    "test_model.evaluate(x_test, y_test)"
   ]
  }
 ],
 "metadata": {
  "kernelspec": {
   "display_name": "Python 3 (ipykernel)",
   "language": "python",
   "name": "python3"
  },
  "language_info": {
   "codemirror_mode": {
    "name": "ipython",
    "version": 3
   },
   "file_extension": ".py",
   "mimetype": "text/x-python",
   "name": "python",
   "nbconvert_exporter": "python",
   "pygments_lexer": "ipython3",
   "version": "3.9.13"
  }
 },
 "nbformat": 4,
 "nbformat_minor": 5
}
