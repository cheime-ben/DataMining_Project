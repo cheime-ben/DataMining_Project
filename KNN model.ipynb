{
 "cells": [
  {
   "cell_type": "code",
   "execution_count": 3,
   "id": "0691c495",
   "metadata": {},
   "outputs": [],
   "source": [
    "# import the dependencies\n",
    "from load_ardis_mnist import load_ardis_mnist\n",
    "import numpy as np\n",
    "from sklearn.neighbors import KNeighborsClassifier\n",
    "from sklearn.model_selection import train_test_split\n",
    "from sklearn.preprocessing import StandardScaler\n",
    "from sklearn.metrics import confusion_matrix\n",
    "from sklearn.metrics import f1_score\n",
    "from sklearn.metrics import accuracy_score"
   ]
  },
  {
   "cell_type": "code",
   "execution_count": 13,
   "id": "d2bff8e7",
   "metadata": {},
   "outputs": [],
   "source": [
    "# load the data\n",
    "(train_images, y_train), (test_images,\n",
    "                               y_test) = load_ardis_mnist()"
   ]
  },
  {
   "cell_type": "code",
   "execution_count": 14,
   "id": "feb08f1d",
   "metadata": {},
   "outputs": [],
   "source": [
    "# flatten the image into an array\n",
    "train_images = train_images.reshape((-1, 784))\n",
    "test_images = test_images.reshape((-1, 784))"
   ]
  },
  {
   "cell_type": "code",
   "execution_count": 16,
   "id": "aff5cd7f",
   "metadata": {},
   "outputs": [],
   "source": [
    "sc_X = StandardScaler()\n",
    "X_train = sc_X.fit_transform(train_images)\n",
    "X_test = sc_X.transform(test_images)"
   ]
  },
  {
   "cell_type": "code",
   "execution_count": 30,
   "id": "f9b8302b",
   "metadata": {},
   "outputs": [
    {
     "data": {
      "text/plain": [
       "KNeighborsClassifier(metric='euclidean')"
      ]
     },
     "execution_count": 30,
     "metadata": {},
     "output_type": "execute_result"
    }
   ],
   "source": [
    "classifier = KNeighborsClassifier(n_neighbors=5, p=2,metric='euclidean')\n",
    "# Fit Model\n",
    "classifier.fit(X_train, y_train)"
   ]
  },
  {
   "cell_type": "code",
   "execution_count": 31,
   "id": "d6698e59",
   "metadata": {},
   "outputs": [
    {
     "data": {
      "text/plain": [
       "array([1, 0, 6, ..., 4, 5, 6])"
      ]
     },
     "execution_count": 31,
     "metadata": {},
     "output_type": "execute_result"
    }
   ],
   "source": [
    "y_pred = classifier.predict(X_test)\n",
    "y_pred"
   ]
  },
  {
   "cell_type": "code",
   "execution_count": 32,
   "id": "fd660a59",
   "metadata": {},
   "outputs": [
    {
     "name": "stdout",
     "output_type": "stream",
     "text": [
      "0.9265454545454546\n"
     ]
    }
   ],
   "source": [
    "print(accuracy_score(y_test, y_pred))"
   ]
  },
  {
   "cell_type": "code",
   "execution_count": 118,
   "id": "c90a838f",
   "metadata": {},
   "outputs": [
    {
     "name": "stdout",
     "output_type": "stream",
     "text": [
      "[[1052    3    1    2    1    2   12    5    0    2]\n",
      " [   0 1222    3    0    1    1    4    3    0    1]\n",
      " [  15   16 1034   13    7    1    6   13   17   10]\n",
      " [   9   12   13 1022    3   19    3   12   13    4]\n",
      " [   2   13    6    2 1003    5   10   10    3   28]\n",
      " [  10    4    5   16   10  902   16    7    6   16]\n",
      " [  22   14    5    2    3    3 1002    0    3    4]\n",
      " [   0   34   14    6   12    7    1 1021    2   31]\n",
      " [  15    9   10   28    8   28    6   12  936   22]\n",
      " [  10   18    9   10   20    5    1   34    4  998]]\n"
     ]
    }
   ],
   "source": [
    "cm = confusion_matrix(y_test, y_pred)\n",
    "print (cm)"
   ]
  },
  {
   "cell_type": "code",
   "execution_count": 119,
   "id": "99c0d6d6",
   "metadata": {},
   "outputs": [],
   "source": [
    "import cv2\n",
    "img = cv2.imread(\"9.png\")"
   ]
  },
  {
   "cell_type": "code",
   "execution_count": 120,
   "id": "347b2eee",
   "metadata": {},
   "outputs": [],
   "source": [
    "img_grey = cv2.cvtColor(img, cv2. COLOR_BGR2GRAY)\n",
    "img_res = cv2.resize(img_grey, dsize=(28, 28), interpolation=cv2.INTER_AREA)"
   ]
  },
  {
   "cell_type": "code",
   "execution_count": 121,
   "id": "96583d69",
   "metadata": {},
   "outputs": [],
   "source": [
    "img_res = (img_res/255) "
   ]
  },
  {
   "cell_type": "code",
   "execution_count": 122,
   "id": "4c9e5444",
   "metadata": {},
   "outputs": [],
   "source": [
    "img_res = img_res.reshape((-1, 784))"
   ]
  },
  {
   "cell_type": "code",
   "execution_count": 123,
   "id": "753ecd4f",
   "metadata": {},
   "outputs": [
    {
     "name": "stdout",
     "output_type": "stream",
     "text": [
      "Model prediction [9]\n"
     ]
    }
   ],
   "source": [
    "img_predict = classifier.predict(img_res)\n",
    "print(\"Model prediction\",img_predict)"
   ]
  },
  {
   "cell_type": "code",
   "execution_count": null,
   "id": "dca65362",
   "metadata": {},
   "outputs": [],
   "source": []
  }
 ],
 "metadata": {
  "kernelspec": {
   "display_name": "Python 3 (ipykernel)",
   "language": "python",
   "name": "python3"
  },
  "language_info": {
   "codemirror_mode": {
    "name": "ipython",
    "version": 3
   },
   "file_extension": ".py",
   "mimetype": "text/x-python",
   "name": "python",
   "nbconvert_exporter": "python",
   "pygments_lexer": "ipython3",
   "version": "3.9.13"
  }
 },
 "nbformat": 4,
 "nbformat_minor": 5
}
